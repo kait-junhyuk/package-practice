{
 "cells": [
  {
   "cell_type": "code",
   "execution_count": 1,
   "id": "cd3216b9",
   "metadata": {},
   "outputs": [
    {
     "data": {
      "text/plain": [
       "'2.8.4'"
      ]
     },
     "execution_count": 1,
     "metadata": {},
     "output_type": "execute_result"
    }
   ],
   "source": [
    "import networkx as nx\n",
    "\n",
    "nx.__version__"
   ]
  },
  {
   "cell_type": "markdown",
   "id": "29a03707",
   "metadata": {},
   "source": [
    "## networkx 는 네트워크 그래프를 생성 및 시각화하는 패키지입니다"
   ]
  },
  {
   "cell_type": "code",
   "execution_count": 2,
   "id": "20914608",
   "metadata": {},
   "outputs": [],
   "source": [
    "# 객체 생성\n",
    "g1 = nx.Graph()"
   ]
  },
  {
   "cell_type": "code",
   "execution_count": 3,
   "id": "a042b1f4",
   "metadata": {},
   "outputs": [],
   "source": [
    "g1.add_node(\"a\")\n",
    "g1.add_node(1)\n",
    "g1.add_node(2)\n",
    "g1.add_node(3)\n",
    "\n",
    "g1.add_nodes_from([11,22])"
   ]
  },
  {
   "cell_type": "code",
   "execution_count": 4,
   "id": "4216f04b",
   "metadata": {},
   "outputs": [],
   "source": [
    "#노드 제거\n",
    "g1.remove_node(3)"
   ]
  },
  {
   "cell_type": "code",
   "execution_count": 5,
   "id": "9d16d9c2",
   "metadata": {},
   "outputs": [],
   "source": [
    "#엣지 추가\n",
    "g1.add_edge(1, \"a\")\n",
    "g1.add_edge(1, 2)\n",
    "g1.add_edge(1, 22)\n",
    "\n",
    "g1.add_edges_from([(1, 2), (1, 11)])"
   ]
  },
  {
   "cell_type": "code",
   "execution_count": 6,
   "id": "1afac7db",
   "metadata": {},
   "outputs": [],
   "source": [
    "#엣지 제거\n",
    "g1.remove_edge(1, 22)"
   ]
  },
  {
   "cell_type": "code",
   "execution_count": 7,
   "id": "ca145014",
   "metadata": {},
   "outputs": [
    {
     "name": "stdout",
     "output_type": "stream",
     "text": [
      "<class 'networkx.classes.graph.Graph'>\n"
     ]
    },
    {
     "data": {
      "image/png": "[encoded data removed]",
      "text/plain": [
       "<Figure size 640x480 with 1 Axes>"
      ]
     },
     "metadata": {},
     "output_type": "display_data"
    }
   ],
   "source": [
    "#그래프 그리기\n",
    "print(type(g1))\n",
    "nx.draw(g1, with_labels = True, font_weight = \"bold\")"
   ]
  },
  {
   "cell_type": "code",
   "execution_count": 8,
   "id": "e3ad32fa",
   "metadata": {},
   "outputs": [
    {
     "data": {
      "image/png": "[encoded data removed]",
      "text/plain": [
       "<Figure size 640x480 with 1 Axes>"
      ]
     },
     "metadata": {},
     "output_type": "display_data"
    }
   ],
   "source": [
    "#degree 크기에 따른 node size 설정\n",
    "d = dict(g1.degree)\n",
    "nx.draw(g1, nodelist = d.keys(), node_size = [v * 100 for v in d.values()],\n",
    "        with_labels = True, font_weight = \"bold\")"
   ]
  },
  {
   "cell_type": "code",
   "execution_count": 9,
   "id": "0e345f06",
   "metadata": {},
   "outputs": [
    {
     "data": {
      "text/plain": [
       "NodeView(('a', 1, 2, 11, 22))"
      ]
     },
     "execution_count": 9,
     "metadata": {},
     "output_type": "execute_result"
    }
   ],
   "source": [
    "#노드 현황\n",
    "g1.nodes"
   ]
  },
  {
   "cell_type": "code",
   "execution_count": 10,
   "id": "63d64382",
   "metadata": {},
   "outputs": [
    {
     "data": {
      "text/plain": [
       "EdgeView([('a', 1), (1, 2), (1, 11)])"
      ]
     },
     "execution_count": 10,
     "metadata": {},
     "output_type": "execute_result"
    }
   ],
   "source": [
    "#엣지 현황\n",
    "g1.edges"
   ]
  },
  {
   "cell_type": "code",
   "execution_count": 11,
   "id": "ab427224",
   "metadata": {},
   "outputs": [
    {
     "data": {
      "text/plain": [
       "DegreeView({'a': 1, 1: 3, 2: 1, 11: 1, 22: 0})"
      ]
     },
     "execution_count": 11,
     "metadata": {},
     "output_type": "execute_result"
    }
   ],
   "source": [
    "#degree\n",
    "g1.degree"
   ]
  },
  {
   "cell_type": "code",
   "execution_count": 12,
   "id": "fae2332d",
   "metadata": {},
   "outputs": [
    {
     "data": {
      "text/plain": [
       "AdjacencyView({'a': {1: {}}, 1: {'a': {}, 2: {}, 11: {}}, 2: {1: {}}, 11: {1: {}}, 22: {}})"
      ]
     },
     "execution_count": 12,
     "metadata": {},
     "output_type": "execute_result"
    }
   ],
   "source": [
    "#인접\n",
    "g1.adj"
   ]
  },
  {
   "cell_type": "code",
   "execution_count": 13,
   "id": "b33b7492",
   "metadata": {},
   "outputs": [
    {
     "data": {
      "text/plain": [
       "5"
      ]
     },
     "execution_count": 13,
     "metadata": {},
     "output_type": "execute_result"
    }
   ],
   "source": [
    "#노드의 개수\n",
    "g1.number_of_nodes()"
   ]
  },
  {
   "cell_type": "code",
   "execution_count": 14,
   "id": "22698106",
   "metadata": {},
   "outputs": [
    {
     "data": {
      "text/plain": [
       "3"
      ]
     },
     "execution_count": 14,
     "metadata": {},
     "output_type": "execute_result"
    }
   ],
   "source": [
    "#엣지의 개수\n",
    "g1.number_of_edges()"
   ]
  },
  {
   "cell_type": "markdown",
   "id": "d804daca",
   "metadata": {},
   "source": [
    "#요약 (Deprecation Warning)\n",
    "print(nx.info(g1))"
   ]
  },
  {
   "cell_type": "markdown",
   "id": "253dcae5",
   "metadata": {},
   "source": [
    "## 유향 그래프"
   ]
  },
  {
   "cell_type": "code",
   "execution_count": 15,
   "id": "5ee966e4",
   "metadata": {},
   "outputs": [],
   "source": [
    "#객체 생성b\n",
    "g2 = nx.DiGraph()\n",
    "\n",
    "g2.add_edges_from([(1, 2), (1, 3), (2, 4), (3, 4)])"
   ]
  },
  {
   "cell_type": "code",
   "execution_count": 16,
   "id": "80b1c775",
   "metadata": {},
   "outputs": [
    {
     "data": {
      "text/plain": [
       "dict"
      ]
     },
     "execution_count": 16,
     "metadata": {},
     "output_type": "execute_result"
    }
   ],
   "source": [
    "type(g2.nodes[1])"
   ]
  },
  {
   "cell_type": "code",
   "execution_count": 17,
   "id": "a9753a38",
   "metadata": {},
   "outputs": [],
   "source": [
    "g2.nodes[1]['weight'] = 500\n",
    "g2.nodes[2]['weight'] = 900\n",
    "g2.nodes[3]['weight'] = 700\n",
    "g2.nodes[4]['weight'] = 1100"
   ]
  },
  {
   "cell_type": "code",
   "execution_count": 18,
   "id": "27e299f7",
   "metadata": {},
   "outputs": [
    {
     "data": {
      "text/plain": [
       "{'weight': 500}"
      ]
     },
     "execution_count": 18,
     "metadata": {},
     "output_type": "execute_result"
    }
   ],
   "source": [
    "g2.nodes[1]"
   ]
  },
  {
   "cell_type": "code",
   "execution_count": 19,
   "id": "1694d825",
   "metadata": {},
   "outputs": [
    {
     "data": {
      "text/plain": [
       "AtlasView({2: {}, 3: {}})"
      ]
     },
     "execution_count": 19,
     "metadata": {},
     "output_type": "execute_result"
    }
   ],
   "source": [
    "g2[1]"
   ]
  },
  {
   "cell_type": "code",
   "execution_count": 20,
   "id": "d6d87324",
   "metadata": {},
   "outputs": [
    {
     "data": {
      "image/png": "[encoded data removed]",
      "text/plain": [
       "<Figure size 640x480 with 1 Axes>"
      ]
     },
     "metadata": {},
     "output_type": "display_data"
    }
   ],
   "source": [
    "nx.draw(g2, with_labels = True, font_weight = \"bold\")"
   ]
  },
  {
   "cell_type": "code",
   "execution_count": 21,
   "id": "e58506a5",
   "metadata": {},
   "outputs": [
    {
     "data": {
      "text/plain": [
       "DiDegreeView({1: 2, 2: 2, 3: 2, 4: 2})"
      ]
     },
     "execution_count": 21,
     "metadata": {},
     "output_type": "execute_result"
    }
   ],
   "source": [
    "g2.degree"
   ]
  },
  {
   "cell_type": "code",
   "execution_count": 22,
   "id": "f54fd1ea",
   "metadata": {},
   "outputs": [
    {
     "data": {
      "text/plain": [
       "InDegreeView({1: 0, 2: 1, 3: 1, 4: 2})"
      ]
     },
     "execution_count": 22,
     "metadata": {},
     "output_type": "execute_result"
    }
   ],
   "source": [
    "g2.in_degree"
   ]
  },
  {
   "cell_type": "code",
   "execution_count": 23,
   "id": "4982efd0",
   "metadata": {},
   "outputs": [
    {
     "data": {
      "text/plain": [
       "OutDegreeView({1: 2, 2: 1, 3: 1, 4: 0})"
      ]
     },
     "execution_count": 23,
     "metadata": {},
     "output_type": "execute_result"
    }
   ],
   "source": [
    "g2.out_degree\n"
   ]
  },
  {
   "cell_type": "markdown",
   "id": "3f55d9df",
   "metadata": {},
   "source": [
    "# 가중치 표시"
   ]
  },
  {
   "cell_type": "code",
   "execution_count": 24,
   "id": "d40cadae",
   "metadata": {},
   "outputs": [
    {
     "data": {
      "image/png": "[encoded data removed]",
      "text/plain": [
       "<Figure size 640x480 with 1 Axes>"
      ]
     },
     "metadata": {},
     "output_type": "display_data"
    }
   ],
   "source": [
    "g3 = nx.DiGraph() \n",
    "\n",
    "g3.add_weighted_edges_from([(1, 2, 3), (2, 3, 4)])\n",
    "g3.add_edge(1, 3, weight = 6)\n",
    "\n",
    "pos = nx.spring_layout(g3)\n",
    "nx.draw(g3, pos = pos, with_labels = True)\n",
    "\n",
    "labels = nx.get_edge_attributes(g3,'weight')\n",
    "nx.draw_networkx_edge_labels(g3, pos, edge_labels = labels);"
   ]
  },
  {
   "cell_type": "markdown",
   "id": "32a40de7",
   "metadata": {},
   "source": [
    "## 판다스 데이터프레임 사용 (directed graph)"
   ]
  },
  {
   "cell_type": "code",
   "execution_count": 25,
   "id": "49c80feb",
   "metadata": {},
   "outputs": [],
   "source": [
    "import pandas as pd\n"
   ]
  },
  {
   "cell_type": "code",
   "execution_count": 26,
   "id": "c36e6be6",
   "metadata": {},
   "outputs": [
    {
     "data": {
      "text/html": [
       "<div>\n",
       "<style scoped>\n",
       "    .dataframe tbody tr th:only-of-type {\n",
       "        vertical-align: middle;\n",
       "    }\n",
       "\n",
       "    .dataframe tbody tr th {\n",
       "        vertical-align: top;\n",
       "    }\n",
       "\n",
       "    .dataframe thead th {\n",
       "        text-align: right;\n",
       "    }\n",
       "</style>\n",
       "<table border=\"1\" class=\"dataframe\">\n",
       "  <thead>\n",
       "    <tr style=\"text-align: right;\">\n",
       "      <th></th>\n",
       "      <th>from</th>\n",
       "      <th>to</th>\n",
       "      <th>weight</th>\n",
       "    </tr>\n",
       "  </thead>\n",
       "  <tbody>\n",
       "    <tr>\n",
       "      <th>0</th>\n",
       "      <td>A</td>\n",
       "      <td>D</td>\n",
       "      <td>1</td>\n",
       "    </tr>\n",
       "    <tr>\n",
       "      <th>1</th>\n",
       "      <td>B</td>\n",
       "      <td>A</td>\n",
       "      <td>2</td>\n",
       "    </tr>\n",
       "    <tr>\n",
       "      <th>2</th>\n",
       "      <td>C</td>\n",
       "      <td>E</td>\n",
       "      <td>3</td>\n",
       "    </tr>\n",
       "    <tr>\n",
       "      <th>3</th>\n",
       "      <td>A</td>\n",
       "      <td>C</td>\n",
       "      <td>4</td>\n",
       "    </tr>\n",
       "    <tr>\n",
       "      <th>4</th>\n",
       "      <td>E</td>\n",
       "      <td>A</td>\n",
       "      <td>5</td>\n",
       "    </tr>\n",
       "    <tr>\n",
       "      <th>5</th>\n",
       "      <td>D</td>\n",
       "      <td>E</td>\n",
       "      <td>6</td>\n",
       "    </tr>\n",
       "  </tbody>\n",
       "</table>\n",
       "</div>"
      ],
      "text/plain": [
       "  from to  weight\n",
       "0    A  D       1\n",
       "1    B  A       2\n",
       "2    C  E       3\n",
       "3    A  C       4\n",
       "4    E  A       5\n",
       "5    D  E       6"
      ]
     },
     "execution_count": 26,
     "metadata": {},
     "output_type": "execute_result"
    }
   ],
   "source": [
    "df = pd.DataFrame({'from': ['A', 'B', 'C', 'A', 'E', 'D'],\n",
    "                   'to': ['D', 'A', 'E', 'C', 'A', 'E'],\n",
    "                   'weight': [1, 2, 3, 4, 5, 6]})\n",
    "df"
   ]
  },
  {
   "cell_type": "code",
   "execution_count": 30,
   "id": "f74d2aab",
   "metadata": {},
   "outputs": [
    {
     "name": "stdout",
     "output_type": "stream",
     "text": [
      "A D\n",
      "B A\n",
      "C E\n",
      "A C\n",
      "E A\n",
      "D E\n"
     ]
    }
   ],
   "source": [
    "for ind, row in df.iterrows():\n",
    "    print(row[0], row[1])"
   ]
  },
  {
   "cell_type": "code",
   "execution_count": 28,
   "id": "e1f5d822",
   "metadata": {},
   "outputs": [
    {
     "data": {
      "image/png": "[encoded data removed]",
      "text/plain": [
       "<Figure size 640x480 with 1 Axes>"
      ]
     },
     "metadata": {},
     "output_type": "display_data"
    }
   ],
   "source": [
    "g = nx.from_pandas_edgelist(df, 'from', 'to', create_using = nx.DiGraph())\n",
    "nx.draw(g, with_labels=True)"
   ]
  },
  {
   "cell_type": "markdown",
   "id": "3e5f328b",
   "metadata": {},
   "source": [
    "## networkx graph -> pandas dataframe"
   ]
  },
  {
   "cell_type": "code",
   "execution_count": 29,
   "id": "c8e1e52f",
   "metadata": {},
   "outputs": [
    {
     "ename": "AttributeError",
     "evalue": "module networkx has no attribute to_pandas_dataframe",
     "output_type": "error",
     "traceback": [
      "\u001b[1;31m---------------------------------------------------------------------------\u001b[0m",
      "\u001b[1;31mAttributeError\u001b[0m                            Traceback (most recent call last)",
      "Input \u001b[1;32mIn [29]\u001b[0m, in \u001b[0;36m<cell line: 1>\u001b[1;34m()\u001b[0m\n\u001b[1;32m----> 1\u001b[0m df \u001b[38;5;241m=\u001b[39m \u001b[43mnx\u001b[49m\u001b[38;5;241;43m.\u001b[39;49m\u001b[43mto_pandas_dataframe\u001b[49m(g, source \u001b[38;5;241m=\u001b[39m \u001b[38;5;124m'\u001b[39m\u001b[38;5;124mfrom\u001b[39m\u001b[38;5;124m'\u001b[39m, target \u001b[38;5;241m=\u001b[39m \u001b[38;5;124m'\u001b[39m\u001b[38;5;124mto\u001b[39m\u001b[38;5;124m'\u001b[39m)\n\u001b[0;32m      2\u001b[0m df\n",
      "File \u001b[1;32m~\\Anaconda3\\lib\\site-packages\\networkx\\__init__.py:51\u001b[0m, in \u001b[0;36m__getattr__\u001b[1;34m(name)\u001b[0m\n\u001b[0;32m     42\u001b[0m \u001b[38;5;28;01mif\u001b[39;00m name \u001b[38;5;241m==\u001b[39m \u001b[38;5;124m\"\u001b[39m\u001b[38;5;124mwrite_yaml\u001b[39m\u001b[38;5;124m\"\u001b[39m:\n\u001b[0;32m     43\u001b[0m     \u001b[38;5;28;01mraise\u001b[39;00m \u001b[38;5;167;01mImportError\u001b[39;00m(\n\u001b[0;32m     44\u001b[0m         \u001b[38;5;124m\"\u001b[39m\u001b[38;5;130;01m\\n\u001b[39;00m\u001b[38;5;124mwrite_yaml has been removed from NetworkX, please use `yaml`\u001b[39m\u001b[38;5;130;01m\\n\u001b[39;00m\u001b[38;5;124m\"\u001b[39m\n\u001b[0;32m     45\u001b[0m         \u001b[38;5;124m\"\u001b[39m\u001b[38;5;124mdirectly:\u001b[39m\u001b[38;5;130;01m\\n\u001b[39;00m\u001b[38;5;130;01m\\n\u001b[39;00m\u001b[38;5;124m\"\u001b[39m\n\u001b[1;32m   (...)\u001b[0m\n\u001b[0;32m     49\u001b[0m         \u001b[38;5;124m\"\u001b[39m\u001b[38;5;124mThis message will be removed in NetworkX 3.0.\u001b[39m\u001b[38;5;124m\"\u001b[39m\n\u001b[0;32m     50\u001b[0m     )\n\u001b[1;32m---> 51\u001b[0m \u001b[38;5;28;01mraise\u001b[39;00m \u001b[38;5;167;01mAttributeError\u001b[39;00m(\u001b[38;5;124mf\u001b[39m\u001b[38;5;124m\"\u001b[39m\u001b[38;5;124mmodule \u001b[39m\u001b[38;5;132;01m{\u001b[39;00m\u001b[38;5;18m__name__\u001b[39m\u001b[38;5;132;01m}\u001b[39;00m\u001b[38;5;124m has no attribute \u001b[39m\u001b[38;5;132;01m{\u001b[39;00mname\u001b[38;5;132;01m}\u001b[39;00m\u001b[38;5;124m\"\u001b[39m)\n",
      "\u001b[1;31mAttributeError\u001b[0m: module networkx has no attribute to_pandas_dataframe"
     ]
    }
   ],
   "source": [
    "df = nx.to_pandas_dataframe(g, source = 'from', target = 'to')\n",
    "df"
   ]
  }
 ],
 "metadata": {
  "kernelspec": {
   "display_name": "Python 3 (ipykernel)",
   "language": "python",
   "name": "python3"
  },
  "language_info": {
   "codemirror_mode": {
    "name": "ipython",
    "version": 3
   },
   "file_extension": ".py",
   "mimetype": "text/x-python",
   "name": "python",
   "nbconvert_exporter": "python",
   "pygments_lexer": "ipython3",
   "version": "3.9.13"
  }
 },
 "nbformat": 4,
 "nbformat_minor": 5
}
